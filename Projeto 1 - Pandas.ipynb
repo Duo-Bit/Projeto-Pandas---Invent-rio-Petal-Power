{
 "cells": [
  {
   "cell_type": "markdown",
   "metadata": {},
   "source": [
    "![tittle](logo.png)"
   ]
  },
  {
   "cell_type": "markdown",
   "metadata": {},
   "source": [
    "# Projeto - Inventário Petal Power\n",
    "Você é o analista de dados líder de uma cadeia de lojas de jardinagem chamada Petal Power. Ajude-os a analisar seu inventário!\n",
    "\n",
    "Obs: Se você ficar preso durante este projeto, confira a solução do projeto."
   ]
  },
  {
   "cell_type": "markdown",
   "metadata": {},
   "source": [
    "## Tarefa 1\n",
    "Os dados de todos os locais da Petal Power estão no arquivo inventory.csv\n",
    "\n",
    "Carregue os dados em um DataFrame chamado inventory."
   ]
  },
  {
   "cell_type": "code",
   "execution_count": null,
   "metadata": {},
   "outputs": [],
   "source": [
    "#seu código vai aqui\n",
    "inventory = #seu código vai aqui"
   ]
  },
  {
   "cell_type": "markdown",
   "metadata": {},
   "source": [
    "## Tarefa 2\n",
    "Inspecione as primeiras 10 linhas de inventory."
   ]
  },
  {
   "cell_type": "code",
   "execution_count": null,
   "metadata": {},
   "outputs": [],
   "source": [
    "inventory.#seu código vai aqui"
   ]
  },
  {
   "cell_type": "markdown",
   "metadata": {},
   "source": [
    "## Tarefa 3\n",
    "As primeiras 10 linhas representam dados da sua localização em Staten Island. Selecione essas linhas e salve-as em staten_island."
   ]
  },
  {
   "cell_type": "code",
   "execution_count": null,
   "metadata": {},
   "outputs": [],
   "source": [
    "staten_island = #seu código vai aqui"
   ]
  },
  {
   "cell_type": "markdown",
   "metadata": {},
   "source": [
    "## Tarefa 4\n",
    "Um cliente acabou de enviar um e-mail perguntando quais produtos são vendidos no seu local em Staten Island. Selecione a coluna product_description de staten_island e guarde na variável product_request."
   ]
  },
  {
   "cell_type": "code",
   "execution_count": null,
   "metadata": {},
   "outputs": [],
   "source": [
    "product_request = #seu código vai aqui"
   ]
  },
  {
   "cell_type": "markdown",
   "metadata": {},
   "source": [
    "## Tarefa 5\n",
    "Outro e-mail de um cliente perguntando que tipos de sementes são vendidos no local do Brooklyn.\n",
    "\n",
    "Selecione todas as linhas onde location é igual Brooklyn e product_type igual a seeds e salve-as na variável seed_request."
   ]
  },
  {
   "cell_type": "code",
   "execution_count": null,
   "metadata": {},
   "outputs": [],
   "source": [
    "seed_request = #seu código vai aqui"
   ]
  },
  {
   "cell_type": "markdown",
   "metadata": {},
   "source": [
    "## Tarefa 6\n",
    "\n",
    "Adicione uma coluna ao inventory chamado in_stock com o valor True se quantity for maior que 0 e False se quantity igual a 0.\n",
    "\n",
    "E verifique as 10 primeiras linhas de inventory.\n",
    "\n",
    "Lembre-se de que você pode usar uma instrução if como parte de uma função lambda."
   ]
  },
  {
   "cell_type": "code",
   "execution_count": null,
   "metadata": {},
   "outputs": [],
   "source": [
    "inventory[#seu código vai aqui] = #seu código vai aqui\n",
    "#seu código vai aqui"
   ]
  },
  {
   "cell_type": "markdown",
   "metadata": {},
   "source": [
    "## Tarefa 7\n",
    "A Petal Power quer saber o quão valioso é seu estoque atual.\n",
    "\n",
    "Crie uma coluna chamada total_value que é igual a price multiplicada por quantity.\n",
    "\n",
    "Verifique as 10 primeiras linhas de inventory."
   ]
  },
  {
   "cell_type": "code",
   "execution_count": null,
   "metadata": {},
   "outputs": [],
   "source": [
    "inventory[#seu código vai aqui] = #seu código vai aqui\n",
    "#seu código vai aqui"
   ]
  },
  {
   "cell_type": "markdown",
   "metadata": {},
   "source": [
    "## Tarefa 8\n",
    "O departamento de marketing deseja uma descrição completa de cada produto para o seu catálogo.\n",
    "\n",
    "A função abaixo lambda combina product_type e product_description em uma única string:\n",
    "\n",
    "Rode o código abaixo.\n",
    "\n",
    "Verifique as 10 primeiras linhas de inventory."
   ]
  },
  {
   "cell_type": "code",
   "execution_count": null,
   "metadata": {},
   "outputs": [],
   "source": [
    "combine_lambda = lambda row: \\\n",
    "    '{} - {}'.format(row.product_type,\n",
    "                      row.product_description)\n",
    "\n",
    "#seu código vai aqui"
   ]
  },
  {
   "cell_type": "markdown",
   "metadata": {},
   "source": [
    "## Tarefa 9\n",
    "Usando combine_lambda, crie uma nova coluna no inventory chamado full_description que tenha a descrição completa de cada produto.\n",
    "\n",
    "Verifique as 10 primeiras linhas de inventory."
   ]
  },
  {
   "cell_type": "code",
   "execution_count": null,
   "metadata": {},
   "outputs": [],
   "source": [
    "inventory[#seu código vai aqui] = #seu código vai aqui\n",
    "#seu código vai aqui"
   ]
  },
  {
   "cell_type": "markdown",
   "metadata": {},
   "source": [
    "# Parabéns\n",
    "Você concluiu o primeiro projeto do curso de analisando dados com pandas, esse é o inicio de uma brilhante carreira."
   ]
  }
 ],
 "metadata": {
  "kernelspec": {
   "display_name": "Python 3",
   "language": "python",
   "name": "python3"
  },
  "language_info": {
   "codemirror_mode": {
    "name": "ipython",
    "version": 3
   },
   "file_extension": ".py",
   "mimetype": "text/x-python",
   "name": "python",
   "nbconvert_exporter": "python",
   "pygments_lexer": "ipython3",
   "version": "3.6.5"
  }
 },
 "nbformat": 4,
 "nbformat_minor": 2
}
